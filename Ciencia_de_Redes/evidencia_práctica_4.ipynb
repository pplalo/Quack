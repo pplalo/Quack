{
 "cells": [
  {
   "cell_type": "code",
   "execution_count": 2,
   "metadata": {},
   "outputs": [],
   "source": [
    "import networkx as nx\n",
    "import matplotlib.pyplot as plt\n",
    "import numpy as np\n",
    "import pandas as pd"
   ]
  },
  {
   "cell_type": "code",
   "execution_count": 36,
   "metadata": {},
   "outputs": [
    {
     "data": {
      "text/html": [
       "<div>\n",
       "<style scoped>\n",
       "    .dataframe tbody tr th:only-of-type {\n",
       "        vertical-align: middle;\n",
       "    }\n",
       "\n",
       "    .dataframe tbody tr th {\n",
       "        vertical-align: top;\n",
       "    }\n",
       "\n",
       "    .dataframe thead th {\n",
       "        text-align: right;\n",
       "    }\n",
       "</style>\n",
       "<table border=\"1\" class=\"dataframe\">\n",
       "  <thead>\n",
       "    <tr style=\"text-align: right;\">\n",
       "      <th></th>\n",
       "      <th>0</th>\n",
       "    </tr>\n",
       "  </thead>\n",
       "  <tbody>\n",
       "    <tr>\n",
       "      <th>0</th>\n",
       "      <td>2 1</td>\n",
       "    </tr>\n",
       "    <tr>\n",
       "      <th>1</th>\n",
       "      <td>3 1</td>\n",
       "    </tr>\n",
       "    <tr>\n",
       "      <th>2</th>\n",
       "      <td>4 1</td>\n",
       "    </tr>\n",
       "    <tr>\n",
       "      <th>3</th>\n",
       "      <td>5 1</td>\n",
       "    </tr>\n",
       "    <tr>\n",
       "      <th>4</th>\n",
       "      <td>6 1</td>\n",
       "    </tr>\n",
       "    <tr>\n",
       "      <th>...</th>\n",
       "      <td>...</td>\n",
       "    </tr>\n",
       "    <tr>\n",
       "      <th>1936743</th>\n",
       "      <td>495777 495776</td>\n",
       "    </tr>\n",
       "    <tr>\n",
       "      <th>1936744</th>\n",
       "      <td>495800 495799</td>\n",
       "    </tr>\n",
       "    <tr>\n",
       "      <th>1936745</th>\n",
       "      <td>495845 495844</td>\n",
       "    </tr>\n",
       "    <tr>\n",
       "      <th>1936746</th>\n",
       "      <td>495884 495883</td>\n",
       "    </tr>\n",
       "    <tr>\n",
       "      <th>1936747</th>\n",
       "      <td>495933 495932</td>\n",
       "    </tr>\n",
       "  </tbody>\n",
       "</table>\n",
       "<p>1936748 rows × 1 columns</p>\n",
       "</div>"
      ],
      "text/plain": [
       "                     0\n",
       "0                  2 1\n",
       "1                  3 1\n",
       "2                  4 1\n",
       "3                  5 1\n",
       "4                  6 1\n",
       "...                ...\n",
       "1936743  495777 495776\n",
       "1936744  495800 495799\n",
       "1936745  495845 495844\n",
       "1936746  495884 495883\n",
       "1936747  495933 495932\n",
       "\n",
       "[1936748 rows x 1 columns]"
      ]
     },
     "execution_count": 36,
     "metadata": {},
     "output_type": "execute_result"
    }
   ],
   "source": [
    "ruta = 'C:/Users/pepe2/Documents/QuackRepository/Quack/Ciencia_de_Redes/soc-youtube.mtx'\n",
    "\n",
    "datos = pd.read_csv(ruta,\n",
    "            # usecols=[0,1],\n",
    "            skiprows=2,\n",
    "            header=None,\n",
    "            )\n",
    "datos"
   ]
  },
  {
   "cell_type": "code",
   "execution_count": 10,
   "metadata": {},
   "outputs": [],
   "source": [
    "G = nx.from_pandas_edgelist(datos, source = 0, target = 1)"
   ]
  },
  {
   "cell_type": "code",
   "execution_count": 11,
   "metadata": {},
   "outputs": [
    {
     "name": "stdout",
     "output_type": "stream",
     "text": [
      "Propiedades generales de tu red:\n",
      "- El número de nodos es:\t 11\n",
      "- El número de enlaces es:\t 10\n",
      "- El grado promedio es:\t\t 1.8181818181818181\n",
      "\n",
      "\n",
      "El coeficiente de clustering promedio de la red es:\n",
      " 0.0\n",
      "\n",
      "El coeficiente de clustering que tendría la red si fuera aleatoria (es decir p) es:\n",
      " 0.18181818181818182\n"
     ]
    }
   ],
   "source": [
    "N = len(G)\n",
    "L = len(G.edges)\n",
    "k = 2*L/N\n",
    "C = nx.average_clustering(G)\n",
    "\n",
    "p = k / (N-1)\n",
    "print('Propiedades generales de tu red:')\n",
    "print('- El número de nodos es:\\t', N)\n",
    "print('- El número de enlaces es:\\t', L)\n",
    "print('- El grado promedio es:\\t\\t', k)\n",
    "\n",
    "print('\\n\\nEl coeficiente de clustering promedio de la red es:\\n', C)\n",
    "print('\\nEl coeficiente de clustering que tendría la red si fuera aleatoria (es decir p) es:\\n', p)"
   ]
  },
  {
   "attachments": {},
   "cell_type": "markdown",
   "metadata": {},
   "source": [
    "### Pregunta 1\n",
    "\n",
    "**¿Consideras que el modelo de red aleatoria se ajusta a la red real que estás utilizando?**\n",
    "\n",
    "*Yo creo que sí se acerca mucho a lo que realmente nuestra red real esta representando porque el grado de clustering promedio de nuestra red es de 0 el cálculo del clustering como si fuese aleatoria la red es de 0.18*\n"
   ]
  },
  {
   "attachments": {},
   "cell_type": "markdown",
   "metadata": {},
   "source": [
    "## 2.1.3.2. DIstribución de grado"
   ]
  },
  {
   "cell_type": "code",
   "execution_count": 19,
   "metadata": {},
   "outputs": [],
   "source": [
    "# se generan los diccionarios\n",
    "grado_dict = dict(nx.degree(G))\n",
    "clustering_dict = nx.clustering(G)"
   ]
  },
  {
   "cell_type": "code",
   "execution_count": 21,
   "metadata": {},
   "outputs": [
    {
     "data": {
      "text/html": [
       "<div>\n",
       "<style scoped>\n",
       "    .dataframe tbody tr th:only-of-type {\n",
       "        vertical-align: middle;\n",
       "    }\n",
       "\n",
       "    .dataframe tbody tr th {\n",
       "        vertical-align: top;\n",
       "    }\n",
       "\n",
       "    .dataframe thead th {\n",
       "        text-align: right;\n",
       "    }\n",
       "</style>\n",
       "<table border=\"1\" class=\"dataframe\">\n",
       "  <thead>\n",
       "    <tr style=\"text-align: right;\">\n",
       "      <th></th>\n",
       "      <th>Degree</th>\n",
       "      <th>Clustering</th>\n",
       "    </tr>\n",
       "  </thead>\n",
       "  <tbody>\n",
       "    <tr>\n",
       "      <th>0</th>\n",
       "      <td>10</td>\n",
       "      <td>0</td>\n",
       "    </tr>\n",
       "    <tr>\n",
       "      <th>7061</th>\n",
       "      <td>1</td>\n",
       "      <td>0</td>\n",
       "    </tr>\n",
       "    <tr>\n",
       "      <th>5911</th>\n",
       "      <td>1</td>\n",
       "      <td>0</td>\n",
       "    </tr>\n",
       "    <tr>\n",
       "      <th>13203</th>\n",
       "      <td>1</td>\n",
       "      <td>0</td>\n",
       "    </tr>\n",
       "    <tr>\n",
       "      <th>13704</th>\n",
       "      <td>1</td>\n",
       "      <td>0</td>\n",
       "    </tr>\n",
       "    <tr>\n",
       "      <th>11031</th>\n",
       "      <td>1</td>\n",
       "      <td>0</td>\n",
       "    </tr>\n",
       "    <tr>\n",
       "      <th>2095</th>\n",
       "      <td>1</td>\n",
       "      <td>0</td>\n",
       "    </tr>\n",
       "    <tr>\n",
       "      <th>10340</th>\n",
       "      <td>1</td>\n",
       "      <td>0</td>\n",
       "    </tr>\n",
       "    <tr>\n",
       "      <th>2801</th>\n",
       "      <td>1</td>\n",
       "      <td>0</td>\n",
       "    </tr>\n",
       "    <tr>\n",
       "      <th>970</th>\n",
       "      <td>1</td>\n",
       "      <td>0</td>\n",
       "    </tr>\n",
       "    <tr>\n",
       "      <th>5983</th>\n",
       "      <td>1</td>\n",
       "      <td>0</td>\n",
       "    </tr>\n",
       "  </tbody>\n",
       "</table>\n",
       "</div>"
      ],
      "text/plain": [
       "       Degree  Clustering\n",
       "0          10           0\n",
       "7061        1           0\n",
       "5911        1           0\n",
       "13203       1           0\n",
       "13704       1           0\n",
       "11031       1           0\n",
       "2095        1           0\n",
       "10340       1           0\n",
       "2801        1           0\n",
       "970         1           0\n",
       "5983        1           0"
      ]
     },
     "execution_count": 21,
     "metadata": {},
     "output_type": "execute_result"
    }
   ],
   "source": [
    "# se genera el dataframe (la tabla)\n",
    "df = pd.DataFrame([grado_dict, clustering_dict]).T\n",
    "df.columns = ['Degree', 'Clustering']\n",
    "df"
   ]
  },
  {
   "cell_type": "code",
   "execution_count": 23,
   "metadata": {},
   "outputs": [
    {
     "data": {
      "text/plain": [
       "array([10,  1,  1,  1,  1,  1,  1,  1,  1,  1,  1], dtype=int64)"
      ]
     },
     "execution_count": 23,
     "metadata": {},
     "output_type": "execute_result"
    }
   ],
   "source": [
    "df.Degree.values"
   ]
  },
  {
   "cell_type": "code",
   "execution_count": 25,
   "metadata": {},
   "outputs": [
    {
     "data": {
      "text/plain": [
       "10"
      ]
     },
     "execution_count": 25,
     "metadata": {},
     "output_type": "execute_result"
    }
   ],
   "source": [
    "K = df.Degree.max()\n",
    "K"
   ]
  },
  {
   "cell_type": "code",
   "execution_count": 26,
   "metadata": {},
   "outputs": [],
   "source": [
    "y,x = np.histogram(df.Degree.values, bins = range(int(K)+1), density= True)"
   ]
  },
  {
   "cell_type": "code",
   "execution_count": 28,
   "metadata": {},
   "outputs": [],
   "source": [
    "from scipy.stats import poisson"
   ]
  },
  {
   "cell_type": "code",
   "execution_count": 30,
   "metadata": {},
   "outputs": [
    {
     "data": {
      "image/png": "[encoded data removed]",
      "text/plain": [
       "<Figure size 1500x500 with 1 Axes>"
      ]
     },
     "metadata": {},
     "output_type": "display_data"
    }
   ],
   "source": [
    "plt.figure(figsize = [15,5])\n",
    "plt.bar(x[:-1], y, label = 'pk')\n",
    "plt.plot(x[:-1], poisson.pmf(x[:-1], k), 'r--', label = 'poisson') \n",
    "\n",
    "plt.title('Comparación de la red real con la red aleatoria equivalente\\n(N = %i, p = %.4f)' %(N,p), size = 20)\n",
    "plt.ylim([0.5*y[y>0].min(),1.1*y.max()])\n",
    "plt.xlim([0,x.max()])\n",
    "plt.xlabel('k', size = 20)\n",
    "plt.legend()\n",
    "plt.show()"
   ]
  },
  {
   "attachments": {},
   "cell_type": "markdown",
   "metadata": {},
   "source": [
    "### Pregunta 2\n",
    "\n",
    "**¿Consideras que la distribución de grado de la red aleatoria correspondiente se ajusta a la distribución de grado de la red real que estás analizando?**\n",
    "\n",
    "*En esta red escogida el hecho de que haya poca variedad de en grados de distribución dificulta un poco el análisis, sin embargo sí se puede apreciar como a pesar de la poca variedad, la manera enla que se distribuye poisson muestra enorme similitud con el grado real de nuestra red.*\n",
    "\n"
   ]
  },
  {
   "attachments": {},
   "cell_type": "markdown",
   "metadata": {},
   "source": [
    "## Código para redes MUY grandes\n",
    "\n",
    "No se puede apreciar debido a que la red escogida es muy pequeña"
   ]
  },
  {
   "cell_type": "code",
   "execution_count": null,
   "metadata": {},
   "outputs": [],
   "source": [
    "plt.figure(figsize = [15,5])\n",
    "plt.plot(x[:-1], y, '.', label = 'Pk')\n",
    "plt.plot(x[:-1], poisson.pmf(x[:-1], k), 'r--', label = 'poisson')\n",
    "\n",
    "#Se aplica escala logarítmica a ambos ejes\n",
    "plt.xscale('log')\n",
    "plt.yscale('log')\n",
    "\n",
    "#parámetros adecuados para la visualización:\n",
    "plt.ylim([0.5*y[y>0].min(),2*y.max()])\n",
    "plt.legend()\n",
    "\n",
    "plt.title('Comparación de la red real con la red aleatoria equivalente. Escala \"log-log\"\\n(N = %i, p = %.4f)' %(N,p), size = 20)\n",
    "plt.xlabel('k', size = 20)\n",
    "\n",
    "plt.show()"
   ]
  },
  {
   "attachments": {},
   "cell_type": "markdown",
   "metadata": {},
   "source": [
    "## 2.1.3.3. Clustering de los nodos"
   ]
  },
  {
   "cell_type": "code",
   "execution_count": 33,
   "metadata": {},
   "outputs": [
    {
     "data": {
      "image/png": "[encoded data removed]",
      "text/plain": [
       "<Figure size 1500x500 with 1 Axes>"
      ]
     },
     "metadata": {},
     "output_type": "display_data"
    }
   ],
   "source": [
    "plt.figure(figsize = [15,5])\n",
    "df.Clustering.plot(style = 'b.', alpha = .4)\n",
    "\n",
    "plt.plot([0,N], [p,p], 'r--', linewidth = 3, label = 'p = %.4f' %p)\n",
    "plt.plot([0,N], [C,C], 'k--', linewidth = 3, label = '<C> = %.4f' %C)\n",
    "\n",
    "plt.xlabel('Nodo i', size = 20)\n",
    "plt.ylabel('C(i)', size = 20)\n",
    "plt.legend()\n",
    "\n",
    "plt.show()"
   ]
  }
 ],
 "metadata": {
  "kernelspec": {
   "display_name": "Python 3",
   "language": "python",
   "name": "python3"
  },
  "language_info": {
   "codemirror_mode": {
    "name": "ipython",
    "version": 3
   },
   "file_extension": ".py",
   "mimetype": "text/x-python",
   "name": "python",
   "nbconvert_exporter": "python",
   "pygments_lexer": "ipython3",
   "version": "3.11.3"
  },
  "orig_nbformat": 4
 },
 "nbformat": 4,
 "nbformat_minor": 2
}
