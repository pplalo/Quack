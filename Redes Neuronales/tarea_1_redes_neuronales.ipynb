{
 "cells": [
  {
   "cell_type": "code",
   "execution_count": 1,
   "metadata": {},
   "outputs": [],
   "source": [
    "import pandas as pd\n",
    "import numpy as np\n",
    "import matplotlib.pyplot as plt\n",
    "from tensorflow.keras.models import Sequential\n",
    "from tensorflow.keras.layers import Dense, Flatten\n",
    "from tensorflow import keras"
   ]
  },
  {
   "cell_type": "code",
   "execution_count": 2,
   "metadata": {},
   "outputs": [
    {
     "data": {
      "text/html": [
       "<div>\n",
       "<style scoped>\n",
       "    .dataframe tbody tr th:only-of-type {\n",
       "        vertical-align: middle;\n",
       "    }\n",
       "\n",
       "    .dataframe tbody tr th {\n",
       "        vertical-align: top;\n",
       "    }\n",
       "\n",
       "    .dataframe thead th {\n",
       "        text-align: right;\n",
       "    }\n",
       "</style>\n",
       "<table border=\"1\" class=\"dataframe\">\n",
       "  <thead>\n",
       "    <tr style=\"text-align: right;\">\n",
       "      <th></th>\n",
       "      <th>0</th>\n",
       "      <th>1</th>\n",
       "      <th>2</th>\n",
       "      <th>3</th>\n",
       "      <th>4</th>\n",
       "      <th>5</th>\n",
       "      <th>6</th>\n",
       "      <th>7</th>\n",
       "      <th>8</th>\n",
       "      <th>9</th>\n",
       "      <th>10</th>\n",
       "      <th>11</th>\n",
       "      <th>12</th>\n",
       "      <th>13</th>\n",
       "    </tr>\n",
       "  </thead>\n",
       "  <tbody>\n",
       "    <tr>\n",
       "      <th>0</th>\n",
       "      <td>1</td>\n",
       "      <td>14.23</td>\n",
       "      <td>1.71</td>\n",
       "      <td>2.43</td>\n",
       "      <td>15.6</td>\n",
       "      <td>127</td>\n",
       "      <td>2.80</td>\n",
       "      <td>3.06</td>\n",
       "      <td>0.28</td>\n",
       "      <td>2.29</td>\n",
       "      <td>5.64</td>\n",
       "      <td>1.04</td>\n",
       "      <td>3.92</td>\n",
       "      <td>1065</td>\n",
       "    </tr>\n",
       "    <tr>\n",
       "      <th>1</th>\n",
       "      <td>1</td>\n",
       "      <td>13.20</td>\n",
       "      <td>1.78</td>\n",
       "      <td>2.14</td>\n",
       "      <td>11.2</td>\n",
       "      <td>100</td>\n",
       "      <td>2.65</td>\n",
       "      <td>2.76</td>\n",
       "      <td>0.26</td>\n",
       "      <td>1.28</td>\n",
       "      <td>4.38</td>\n",
       "      <td>1.05</td>\n",
       "      <td>3.40</td>\n",
       "      <td>1050</td>\n",
       "    </tr>\n",
       "    <tr>\n",
       "      <th>2</th>\n",
       "      <td>1</td>\n",
       "      <td>13.16</td>\n",
       "      <td>2.36</td>\n",
       "      <td>2.67</td>\n",
       "      <td>18.6</td>\n",
       "      <td>101</td>\n",
       "      <td>2.80</td>\n",
       "      <td>3.24</td>\n",
       "      <td>0.30</td>\n",
       "      <td>2.81</td>\n",
       "      <td>5.68</td>\n",
       "      <td>1.03</td>\n",
       "      <td>3.17</td>\n",
       "      <td>1185</td>\n",
       "    </tr>\n",
       "    <tr>\n",
       "      <th>3</th>\n",
       "      <td>1</td>\n",
       "      <td>14.37</td>\n",
       "      <td>1.95</td>\n",
       "      <td>2.50</td>\n",
       "      <td>16.8</td>\n",
       "      <td>113</td>\n",
       "      <td>3.85</td>\n",
       "      <td>3.49</td>\n",
       "      <td>0.24</td>\n",
       "      <td>2.18</td>\n",
       "      <td>7.80</td>\n",
       "      <td>0.86</td>\n",
       "      <td>3.45</td>\n",
       "      <td>1480</td>\n",
       "    </tr>\n",
       "    <tr>\n",
       "      <th>4</th>\n",
       "      <td>1</td>\n",
       "      <td>13.24</td>\n",
       "      <td>2.59</td>\n",
       "      <td>2.87</td>\n",
       "      <td>21.0</td>\n",
       "      <td>118</td>\n",
       "      <td>2.80</td>\n",
       "      <td>2.69</td>\n",
       "      <td>0.39</td>\n",
       "      <td>1.82</td>\n",
       "      <td>4.32</td>\n",
       "      <td>1.04</td>\n",
       "      <td>2.93</td>\n",
       "      <td>735</td>\n",
       "    </tr>\n",
       "  </tbody>\n",
       "</table>\n",
       "</div>"
      ],
      "text/plain": [
       "   0      1     2     3     4    5     6     7     8     9     10    11    12   \n",
       "0   1  14.23  1.71  2.43  15.6  127  2.80  3.06  0.28  2.29  5.64  1.04  3.92  \\\n",
       "1   1  13.20  1.78  2.14  11.2  100  2.65  2.76  0.26  1.28  4.38  1.05  3.40   \n",
       "2   1  13.16  2.36  2.67  18.6  101  2.80  3.24  0.30  2.81  5.68  1.03  3.17   \n",
       "3   1  14.37  1.95  2.50  16.8  113  3.85  3.49  0.24  2.18  7.80  0.86  3.45   \n",
       "4   1  13.24  2.59  2.87  21.0  118  2.80  2.69  0.39  1.82  4.32  1.04  2.93   \n",
       "\n",
       "     13  \n",
       "0  1065  \n",
       "1  1050  \n",
       "2  1185  \n",
       "3  1480  \n",
       "4   735  "
      ]
     },
     "execution_count": 2,
     "metadata": {},
     "output_type": "execute_result"
    }
   ],
   "source": [
    "# Cargamos el dataset\n",
    "dataset = pd.read_csv('wine.data', header=None,skiprows=1)\n",
    "dataset.head()"
   ]
  },
  {
   "cell_type": "code",
   "execution_count": 3,
   "metadata": {},
   "outputs": [
    {
     "data": {
      "text/plain": [
       "(178, 115, 63)"
      ]
     },
     "execution_count": 3,
     "metadata": {},
     "output_type": "execute_result"
    }
   ],
   "source": [
    "#  Ahora vamos a separar los datos de entrenamiento y los datos de prueba\n",
    "from sklearn.model_selection import train_test_split\n",
    "X_train, X_test, y_train, y_test = train_test_split(dataset.iloc[:, 1:], dataset.iloc[:, 0], test_size=0.35)\n",
    "\n",
    "len(dataset),len(X_train),len(X_test)"
   ]
  },
  {
   "cell_type": "code",
   "execution_count": 5,
   "metadata": {},
   "outputs": [],
   "source": [
    "# Normalizamos nuestros conjuntos de datos\n",
    "# X_train_mean = X_train.mean()   \n",
    "# X_train_std = X_train.std()\n",
    "# X_train = (X_train - X_train_mean) / X_train_std\n",
    "\n",
    "# X_test_mean = X_test.mean()\n",
    "# X_test_std = X_test.std()\n",
    "# X_test = (X_test - X_test_mean) / X_test_std\n",
    "\n",
    "X_train = X_train/X_train.max()\n",
    "X_test = X_test/X_test.max()\n",
    "\n"
   ]
  },
  {
   "cell_type": "code",
   "execution_count": null,
   "metadata": {},
   "outputs": [],
   "source": [
    "y_train.head()"
   ]
  },
  {
   "cell_type": "code",
   "execution_count": null,
   "metadata": {},
   "outputs": [],
   "source": [
    "X_train.head()"
   ]
  },
  {
   "cell_type": "code",
   "execution_count": null,
   "metadata": {},
   "outputs": [],
   "source": [
    "# X_train = np.array(X_train)\n",
    "# y_train = np.array(y_train)"
   ]
  },
  {
   "cell_type": "code",
   "execution_count": null,
   "metadata": {},
   "outputs": [],
   "source": [
    "len(X_train),len(y_train)"
   ]
  },
  {
   "cell_type": "code",
   "execution_count": 12,
   "metadata": {},
   "outputs": [],
   "source": [
    "model = Sequential([\n",
    "    Dense(13, input_shape=(13,), activation=\"relu\"),\n",
    "    Dense(64, activation=\"sigmoid\"),\n",
    "    Dense(1, activation=\"softmax\")\n",
    "])"
   ]
  },
  {
   "cell_type": "code",
   "execution_count": 7,
   "metadata": {},
   "outputs": [],
   "source": [
    "model.build(input_shape=(None, 13))\n"
   ]
  },
  {
   "cell_type": "code",
   "execution_count": 8,
   "metadata": {},
   "outputs": [
    {
     "data": {
      "image/png": "[encoded data removed]",
      "text/plain": [
       "<IPython.core.display.Image object>"
      ]
     },
     "execution_count": 8,
     "metadata": {},
     "output_type": "execute_result"
    }
   ],
   "source": [
    "keras.utils.plot_model(model)"
   ]
  },
  {
   "cell_type": "code",
   "execution_count": 13,
   "metadata": {},
   "outputs": [],
   "source": [
    "# Probaremos varios optimizadores\n",
    "# model.compile(optimizer=(\"sgd\", \"rmsprop\", \"adagrad\", \"adadelta\", \"adam\", \"adamax\", \"nadam\"),\n",
    "from tensorflow.keras.optimizers import Adam, SGD\n",
    "model.compile(optimizer=SGD(learning_rate=0.1),\n",
    "              loss=\"categorical_crossentropy\",\n",
    "              metrics=[\"accuracy\"])"
   ]
  },
  {
   "cell_type": "code",
   "execution_count": 14,
   "metadata": {},
   "outputs": [
    {
     "name": "stdout",
     "output_type": "stream",
     "text": [
      "Epoch 1/100\n"
     ]
    },
    {
     "name": "stderr",
     "output_type": "stream",
     "text": [
      "c:\\Users\\pepe2\\AppData\\Local\\Programs\\Python\\Python311\\Lib\\site-packages\\tensorflow\\python\\util\\dispatch.py:1176: SyntaxWarning: In loss categorical_crossentropy, expected y_pred.shape to be (batch_size, num_classes) with num_classes > 1. Received: y_pred.shape=(None, 1). Consider using 'binary_crossentropy' if you only have 2 classes.\n",
      "  return dispatch_target(*args, **kwargs)\n"
     ]
    },
    {
     "name": "stdout",
     "output_type": "stream",
     "text": [
      "7/7 - 1s - loss: 0.0000e+00 - accuracy: 0.3301 - val_loss: 0.0000e+00 - val_accuracy: 0.3333 - 605ms/epoch - 86ms/step\n",
      "Epoch 2/100\n",
      "7/7 - 0s - loss: 0.0000e+00 - accuracy: 0.3301 - val_loss: 0.0000e+00 - val_accuracy: 0.3333 - 40ms/epoch - 6ms/step\n",
      "Epoch 3/100\n",
      "7/7 - 0s - loss: 0.0000e+00 - accuracy: 0.3301 - val_loss: 0.0000e+00 - val_accuracy: 0.3333 - 38ms/epoch - 5ms/step\n",
      "Epoch 4/100\n"
     ]
    },
    {
     "name": "stderr",
     "output_type": "stream",
     "text": [
      "c:\\Users\\pepe2\\AppData\\Local\\Programs\\Python\\Python311\\Lib\\site-packages\\tensorflow\\python\\util\\dispatch.py:1176: SyntaxWarning: In loss categorical_crossentropy, expected y_pred.shape to be (batch_size, num_classes) with num_classes > 1. Received: y_pred.shape=(None, 1). Consider using 'binary_crossentropy' if you only have 2 classes.\n",
      "  return dispatch_target(*args, **kwargs)\n"
     ]
    },
    {
     "name": "stdout",
     "output_type": "stream",
     "text": [
      "7/7 - 0s - loss: 0.0000e+00 - accuracy: 0.3301 - val_loss: 0.0000e+00 - val_accuracy: 0.3333 - 41ms/epoch - 6ms/step\n",
      "Epoch 5/100\n",
      "7/7 - 0s - loss: 0.0000e+00 - accuracy: 0.3301 - val_loss: 0.0000e+00 - val_accuracy: 0.3333 - 44ms/epoch - 6ms/step\n",
      "Epoch 6/100\n",
      "7/7 - 0s - loss: 0.0000e+00 - accuracy: 0.3301 - val_loss: 0.0000e+00 - val_accuracy: 0.3333 - 41ms/epoch - 6ms/step\n",
      "Epoch 7/100\n",
      "7/7 - 0s - loss: 0.0000e+00 - accuracy: 0.3301 - val_loss: 0.0000e+00 - val_accuracy: 0.3333 - 38ms/epoch - 5ms/step\n",
      "Epoch 8/100\n",
      "7/7 - 0s - loss: 0.0000e+00 - accuracy: 0.3301 - val_loss: 0.0000e+00 - val_accuracy: 0.3333 - 39ms/epoch - 6ms/step\n",
      "Epoch 9/100\n",
      "7/7 - 0s - loss: 0.0000e+00 - accuracy: 0.3301 - val_loss: 0.0000e+00 - val_accuracy: 0.3333 - 38ms/epoch - 5ms/step\n",
      "Epoch 10/100\n",
      "7/7 - 0s - loss: 0.0000e+00 - accuracy: 0.3301 - val_loss: 0.0000e+00 - val_accuracy: 0.3333 - 39ms/epoch - 6ms/step\n",
      "Epoch 11/100\n",
      "7/7 - 0s - loss: 0.0000e+00 - accuracy: 0.3301 - val_loss: 0.0000e+00 - val_accuracy: 0.3333 - 38ms/epoch - 5ms/step\n",
      "Epoch 12/100\n",
      "7/7 - 0s - loss: 0.0000e+00 - accuracy: 0.3301 - val_loss: 0.0000e+00 - val_accuracy: 0.3333 - 38ms/epoch - 5ms/step\n",
      "Epoch 13/100\n",
      "7/7 - 0s - loss: 0.0000e+00 - accuracy: 0.3301 - val_loss: 0.0000e+00 - val_accuracy: 0.3333 - 42ms/epoch - 6ms/step\n",
      "Epoch 14/100\n",
      "7/7 - 0s - loss: 0.0000e+00 - accuracy: 0.3301 - val_loss: 0.0000e+00 - val_accuracy: 0.3333 - 44ms/epoch - 6ms/step\n",
      "Epoch 15/100\n",
      "7/7 - 0s - loss: 0.0000e+00 - accuracy: 0.3301 - val_loss: 0.0000e+00 - val_accuracy: 0.3333 - 41ms/epoch - 6ms/step\n",
      "Epoch 16/100\n",
      "7/7 - 0s - loss: 0.0000e+00 - accuracy: 0.3301 - val_loss: 0.0000e+00 - val_accuracy: 0.3333 - 38ms/epoch - 5ms/step\n",
      "Epoch 17/100\n",
      "7/7 - 0s - loss: 0.0000e+00 - accuracy: 0.3301 - val_loss: 0.0000e+00 - val_accuracy: 0.3333 - 44ms/epoch - 6ms/step\n",
      "Epoch 18/100\n",
      "7/7 - 0s - loss: 0.0000e+00 - accuracy: 0.3301 - val_loss: 0.0000e+00 - val_accuracy: 0.3333 - 41ms/epoch - 6ms/step\n",
      "Epoch 19/100\n",
      "7/7 - 0s - loss: 0.0000e+00 - accuracy: 0.3301 - val_loss: 0.0000e+00 - val_accuracy: 0.3333 - 42ms/epoch - 6ms/step\n",
      "Epoch 20/100\n",
      "7/7 - 0s - loss: 0.0000e+00 - accuracy: 0.3301 - val_loss: 0.0000e+00 - val_accuracy: 0.3333 - 38ms/epoch - 5ms/step\n",
      "Epoch 21/100\n",
      "7/7 - 0s - loss: 0.0000e+00 - accuracy: 0.3301 - val_loss: 0.0000e+00 - val_accuracy: 0.3333 - 46ms/epoch - 7ms/step\n",
      "Epoch 22/100\n",
      "7/7 - 0s - loss: 0.0000e+00 - accuracy: 0.3301 - val_loss: 0.0000e+00 - val_accuracy: 0.3333 - 39ms/epoch - 6ms/step\n",
      "Epoch 23/100\n",
      "7/7 - 0s - loss: 0.0000e+00 - accuracy: 0.3301 - val_loss: 0.0000e+00 - val_accuracy: 0.3333 - 42ms/epoch - 6ms/step\n",
      "Epoch 24/100\n",
      "7/7 - 0s - loss: 0.0000e+00 - accuracy: 0.3301 - val_loss: 0.0000e+00 - val_accuracy: 0.3333 - 37ms/epoch - 5ms/step\n",
      "Epoch 25/100\n",
      "7/7 - 0s - loss: 0.0000e+00 - accuracy: 0.3301 - val_loss: 0.0000e+00 - val_accuracy: 0.3333 - 42ms/epoch - 6ms/step\n",
      "Epoch 26/100\n",
      "7/7 - 0s - loss: 0.0000e+00 - accuracy: 0.3301 - val_loss: 0.0000e+00 - val_accuracy: 0.3333 - 36ms/epoch - 5ms/step\n",
      "Epoch 27/100\n",
      "7/7 - 0s - loss: 0.0000e+00 - accuracy: 0.3301 - val_loss: 0.0000e+00 - val_accuracy: 0.3333 - 41ms/epoch - 6ms/step\n",
      "Epoch 28/100\n",
      "7/7 - 0s - loss: 0.0000e+00 - accuracy: 0.3301 - val_loss: 0.0000e+00 - val_accuracy: 0.3333 - 38ms/epoch - 5ms/step\n",
      "Epoch 29/100\n",
      "7/7 - 0s - loss: 0.0000e+00 - accuracy: 0.3301 - val_loss: 0.0000e+00 - val_accuracy: 0.3333 - 72ms/epoch - 10ms/step\n",
      "Epoch 30/100\n",
      "7/7 - 0s - loss: 0.0000e+00 - accuracy: 0.3301 - val_loss: 0.0000e+00 - val_accuracy: 0.3333 - 46ms/epoch - 7ms/step\n",
      "Epoch 31/100\n",
      "7/7 - 0s - loss: 0.0000e+00 - accuracy: 0.3301 - val_loss: 0.0000e+00 - val_accuracy: 0.3333 - 35ms/epoch - 5ms/step\n",
      "Epoch 32/100\n",
      "7/7 - 0s - loss: 0.0000e+00 - accuracy: 0.3301 - val_loss: 0.0000e+00 - val_accuracy: 0.3333 - 42ms/epoch - 6ms/step\n",
      "Epoch 33/100\n",
      "7/7 - 0s - loss: 0.0000e+00 - accuracy: 0.3301 - val_loss: 0.0000e+00 - val_accuracy: 0.3333 - 38ms/epoch - 5ms/step\n",
      "Epoch 34/100\n",
      "7/7 - 0s - loss: 0.0000e+00 - accuracy: 0.3301 - val_loss: 0.0000e+00 - val_accuracy: 0.3333 - 39ms/epoch - 6ms/step\n",
      "Epoch 35/100\n",
      "7/7 - 0s - loss: 0.0000e+00 - accuracy: 0.3301 - val_loss: 0.0000e+00 - val_accuracy: 0.3333 - 34ms/epoch - 5ms/step\n",
      "Epoch 36/100\n",
      "7/7 - 0s - loss: 0.0000e+00 - accuracy: 0.3301 - val_loss: 0.0000e+00 - val_accuracy: 0.3333 - 40ms/epoch - 6ms/step\n",
      "Epoch 37/100\n",
      "7/7 - 0s - loss: 0.0000e+00 - accuracy: 0.3301 - val_loss: 0.0000e+00 - val_accuracy: 0.3333 - 39ms/epoch - 6ms/step\n",
      "Epoch 38/100\n",
      "7/7 - 0s - loss: 0.0000e+00 - accuracy: 0.3301 - val_loss: 0.0000e+00 - val_accuracy: 0.3333 - 43ms/epoch - 6ms/step\n",
      "Epoch 39/100\n",
      "7/7 - 0s - loss: 0.0000e+00 - accuracy: 0.3301 - val_loss: 0.0000e+00 - val_accuracy: 0.3333 - 40ms/epoch - 6ms/step\n",
      "Epoch 40/100\n",
      "7/7 - 0s - loss: 0.0000e+00 - accuracy: 0.3301 - val_loss: 0.0000e+00 - val_accuracy: 0.3333 - 43ms/epoch - 6ms/step\n",
      "Epoch 41/100\n",
      "7/7 - 0s - loss: 0.0000e+00 - accuracy: 0.3301 - val_loss: 0.0000e+00 - val_accuracy: 0.3333 - 42ms/epoch - 6ms/step\n",
      "Epoch 42/100\n",
      "7/7 - 0s - loss: 0.0000e+00 - accuracy: 0.3301 - val_loss: 0.0000e+00 - val_accuracy: 0.3333 - 43ms/epoch - 6ms/step\n",
      "Epoch 43/100\n",
      "7/7 - 0s - loss: 0.0000e+00 - accuracy: 0.3301 - val_loss: 0.0000e+00 - val_accuracy: 0.3333 - 40ms/epoch - 6ms/step\n",
      "Epoch 44/100\n",
      "7/7 - 0s - loss: 0.0000e+00 - accuracy: 0.3301 - val_loss: 0.0000e+00 - val_accuracy: 0.3333 - 40ms/epoch - 6ms/step\n",
      "Epoch 45/100\n",
      "7/7 - 0s - loss: 0.0000e+00 - accuracy: 0.3301 - val_loss: 0.0000e+00 - val_accuracy: 0.3333 - 39ms/epoch - 6ms/step\n",
      "Epoch 46/100\n",
      "7/7 - 0s - loss: 0.0000e+00 - accuracy: 0.3301 - val_loss: 0.0000e+00 - val_accuracy: 0.3333 - 40ms/epoch - 6ms/step\n",
      "Epoch 47/100\n",
      "7/7 - 0s - loss: 0.0000e+00 - accuracy: 0.3301 - val_loss: 0.0000e+00 - val_accuracy: 0.3333 - 36ms/epoch - 5ms/step\n",
      "Epoch 48/100\n",
      "7/7 - 0s - loss: 0.0000e+00 - accuracy: 0.3301 - val_loss: 0.0000e+00 - val_accuracy: 0.3333 - 41ms/epoch - 6ms/step\n",
      "Epoch 49/100\n",
      "7/7 - 0s - loss: 0.0000e+00 - accuracy: 0.3301 - val_loss: 0.0000e+00 - val_accuracy: 0.3333 - 35ms/epoch - 5ms/step\n",
      "Epoch 50/100\n",
      "7/7 - 0s - loss: 0.0000e+00 - accuracy: 0.3301 - val_loss: 0.0000e+00 - val_accuracy: 0.3333 - 39ms/epoch - 6ms/step\n",
      "Epoch 51/100\n",
      "7/7 - 0s - loss: 0.0000e+00 - accuracy: 0.3301 - val_loss: 0.0000e+00 - val_accuracy: 0.3333 - 42ms/epoch - 6ms/step\n",
      "Epoch 52/100\n",
      "7/7 - 0s - loss: 0.0000e+00 - accuracy: 0.3301 - val_loss: 0.0000e+00 - val_accuracy: 0.3333 - 40ms/epoch - 6ms/step\n",
      "Epoch 53/100\n",
      "7/7 - 0s - loss: 0.0000e+00 - accuracy: 0.3301 - val_loss: 0.0000e+00 - val_accuracy: 0.3333 - 36ms/epoch - 5ms/step\n",
      "Epoch 54/100\n",
      "7/7 - 0s - loss: 0.0000e+00 - accuracy: 0.3301 - val_loss: 0.0000e+00 - val_accuracy: 0.3333 - 45ms/epoch - 6ms/step\n",
      "Epoch 55/100\n",
      "7/7 - 0s - loss: 0.0000e+00 - accuracy: 0.3301 - val_loss: 0.0000e+00 - val_accuracy: 0.3333 - 42ms/epoch - 6ms/step\n",
      "Epoch 56/100\n",
      "7/7 - 0s - loss: 0.0000e+00 - accuracy: 0.3301 - val_loss: 0.0000e+00 - val_accuracy: 0.3333 - 41ms/epoch - 6ms/step\n",
      "Epoch 57/100\n",
      "7/7 - 0s - loss: 0.0000e+00 - accuracy: 0.3301 - val_loss: 0.0000e+00 - val_accuracy: 0.3333 - 38ms/epoch - 5ms/step\n",
      "Epoch 58/100\n",
      "7/7 - 0s - loss: 0.0000e+00 - accuracy: 0.3301 - val_loss: 0.0000e+00 - val_accuracy: 0.3333 - 39ms/epoch - 6ms/step\n",
      "Epoch 59/100\n",
      "7/7 - 0s - loss: 0.0000e+00 - accuracy: 0.3301 - val_loss: 0.0000e+00 - val_accuracy: 0.3333 - 42ms/epoch - 6ms/step\n",
      "Epoch 60/100\n",
      "7/7 - 0s - loss: 0.0000e+00 - accuracy: 0.3301 - val_loss: 0.0000e+00 - val_accuracy: 0.3333 - 35ms/epoch - 5ms/step\n",
      "Epoch 61/100\n",
      "7/7 - 0s - loss: 0.0000e+00 - accuracy: 0.3301 - val_loss: 0.0000e+00 - val_accuracy: 0.3333 - 37ms/epoch - 5ms/step\n",
      "Epoch 62/100\n",
      "7/7 - 0s - loss: 0.0000e+00 - accuracy: 0.3301 - val_loss: 0.0000e+00 - val_accuracy: 0.3333 - 41ms/epoch - 6ms/step\n",
      "Epoch 63/100\n",
      "7/7 - 0s - loss: 0.0000e+00 - accuracy: 0.3301 - val_loss: 0.0000e+00 - val_accuracy: 0.3333 - 37ms/epoch - 5ms/step\n",
      "Epoch 64/100\n",
      "7/7 - 0s - loss: 0.0000e+00 - accuracy: 0.3301 - val_loss: 0.0000e+00 - val_accuracy: 0.3333 - 42ms/epoch - 6ms/step\n",
      "Epoch 65/100\n",
      "7/7 - 0s - loss: 0.0000e+00 - accuracy: 0.3301 - val_loss: 0.0000e+00 - val_accuracy: 0.3333 - 42ms/epoch - 6ms/step\n",
      "Epoch 66/100\n",
      "7/7 - 0s - loss: 0.0000e+00 - accuracy: 0.3301 - val_loss: 0.0000e+00 - val_accuracy: 0.3333 - 35ms/epoch - 5ms/step\n",
      "Epoch 67/100\n",
      "7/7 - 0s - loss: 0.0000e+00 - accuracy: 0.3301 - val_loss: 0.0000e+00 - val_accuracy: 0.3333 - 42ms/epoch - 6ms/step\n",
      "Epoch 68/100\n",
      "7/7 - 0s - loss: 0.0000e+00 - accuracy: 0.3301 - val_loss: 0.0000e+00 - val_accuracy: 0.3333 - 38ms/epoch - 5ms/step\n",
      "Epoch 69/100\n",
      "7/7 - 0s - loss: 0.0000e+00 - accuracy: 0.3301 - val_loss: 0.0000e+00 - val_accuracy: 0.3333 - 38ms/epoch - 5ms/step\n",
      "Epoch 70/100\n",
      "7/7 - 0s - loss: 0.0000e+00 - accuracy: 0.3301 - val_loss: 0.0000e+00 - val_accuracy: 0.3333 - 40ms/epoch - 6ms/step\n",
      "Epoch 71/100\n",
      "7/7 - 0s - loss: 0.0000e+00 - accuracy: 0.3301 - val_loss: 0.0000e+00 - val_accuracy: 0.3333 - 39ms/epoch - 6ms/step\n",
      "Epoch 72/100\n",
      "7/7 - 0s - loss: 0.0000e+00 - accuracy: 0.3301 - val_loss: 0.0000e+00 - val_accuracy: 0.3333 - 37ms/epoch - 5ms/step\n",
      "Epoch 73/100\n",
      "7/7 - 0s - loss: 0.0000e+00 - accuracy: 0.3301 - val_loss: 0.0000e+00 - val_accuracy: 0.3333 - 37ms/epoch - 5ms/step\n",
      "Epoch 74/100\n",
      "7/7 - 0s - loss: 0.0000e+00 - accuracy: 0.3301 - val_loss: 0.0000e+00 - val_accuracy: 0.3333 - 39ms/epoch - 6ms/step\n",
      "Epoch 75/100\n",
      "7/7 - 0s - loss: 0.0000e+00 - accuracy: 0.3301 - val_loss: 0.0000e+00 - val_accuracy: 0.3333 - 35ms/epoch - 5ms/step\n",
      "Epoch 76/100\n",
      "7/7 - 0s - loss: 0.0000e+00 - accuracy: 0.3301 - val_loss: 0.0000e+00 - val_accuracy: 0.3333 - 38ms/epoch - 5ms/step\n",
      "Epoch 77/100\n",
      "7/7 - 0s - loss: 0.0000e+00 - accuracy: 0.3301 - val_loss: 0.0000e+00 - val_accuracy: 0.3333 - 39ms/epoch - 6ms/step\n",
      "Epoch 78/100\n",
      "7/7 - 0s - loss: 0.0000e+00 - accuracy: 0.3301 - val_loss: 0.0000e+00 - val_accuracy: 0.3333 - 35ms/epoch - 5ms/step\n",
      "Epoch 79/100\n",
      "7/7 - 0s - loss: 0.0000e+00 - accuracy: 0.3301 - val_loss: 0.0000e+00 - val_accuracy: 0.3333 - 39ms/epoch - 6ms/step\n",
      "Epoch 80/100\n",
      "7/7 - 0s - loss: 0.0000e+00 - accuracy: 0.3301 - val_loss: 0.0000e+00 - val_accuracy: 0.3333 - 35ms/epoch - 5ms/step\n",
      "Epoch 81/100\n",
      "7/7 - 0s - loss: 0.0000e+00 - accuracy: 0.3301 - val_loss: 0.0000e+00 - val_accuracy: 0.3333 - 41ms/epoch - 6ms/step\n",
      "Epoch 82/100\n",
      "7/7 - 0s - loss: 0.0000e+00 - accuracy: 0.3301 - val_loss: 0.0000e+00 - val_accuracy: 0.3333 - 37ms/epoch - 5ms/step\n",
      "Epoch 83/100\n",
      "7/7 - 0s - loss: 0.0000e+00 - accuracy: 0.3301 - val_loss: 0.0000e+00 - val_accuracy: 0.3333 - 49ms/epoch - 7ms/step\n",
      "Epoch 84/100\n",
      "7/7 - 0s - loss: 0.0000e+00 - accuracy: 0.3301 - val_loss: 0.0000e+00 - val_accuracy: 0.3333 - 45ms/epoch - 6ms/step\n",
      "Epoch 85/100\n",
      "7/7 - 0s - loss: 0.0000e+00 - accuracy: 0.3301 - val_loss: 0.0000e+00 - val_accuracy: 0.3333 - 40ms/epoch - 6ms/step\n",
      "Epoch 86/100\n",
      "7/7 - 0s - loss: 0.0000e+00 - accuracy: 0.3301 - val_loss: 0.0000e+00 - val_accuracy: 0.3333 - 36ms/epoch - 5ms/step\n",
      "Epoch 87/100\n",
      "7/7 - 0s - loss: 0.0000e+00 - accuracy: 0.3301 - val_loss: 0.0000e+00 - val_accuracy: 0.3333 - 69ms/epoch - 10ms/step\n",
      "Epoch 88/100\n",
      "7/7 - 0s - loss: 0.0000e+00 - accuracy: 0.3301 - val_loss: 0.0000e+00 - val_accuracy: 0.3333 - 45ms/epoch - 6ms/step\n",
      "Epoch 89/100\n",
      "7/7 - 0s - loss: 0.0000e+00 - accuracy: 0.3301 - val_loss: 0.0000e+00 - val_accuracy: 0.3333 - 40ms/epoch - 6ms/step\n",
      "Epoch 90/100\n",
      "7/7 - 0s - loss: 0.0000e+00 - accuracy: 0.3301 - val_loss: 0.0000e+00 - val_accuracy: 0.3333 - 37ms/epoch - 5ms/step\n",
      "Epoch 91/100\n",
      "7/7 - 0s - loss: 0.0000e+00 - accuracy: 0.3301 - val_loss: 0.0000e+00 - val_accuracy: 0.3333 - 36ms/epoch - 5ms/step\n",
      "Epoch 92/100\n",
      "7/7 - 0s - loss: 0.0000e+00 - accuracy: 0.3301 - val_loss: 0.0000e+00 - val_accuracy: 0.3333 - 35ms/epoch - 5ms/step\n",
      "Epoch 93/100\n",
      "7/7 - 0s - loss: 0.0000e+00 - accuracy: 0.3301 - val_loss: 0.0000e+00 - val_accuracy: 0.3333 - 38ms/epoch - 5ms/step\n",
      "Epoch 94/100\n",
      "7/7 - 0s - loss: 0.0000e+00 - accuracy: 0.3301 - val_loss: 0.0000e+00 - val_accuracy: 0.3333 - 38ms/epoch - 5ms/step\n",
      "Epoch 95/100\n",
      "7/7 - 0s - loss: 0.0000e+00 - accuracy: 0.3301 - val_loss: 0.0000e+00 - val_accuracy: 0.3333 - 38ms/epoch - 5ms/step\n",
      "Epoch 96/100\n",
      "7/7 - 0s - loss: 0.0000e+00 - accuracy: 0.3301 - val_loss: 0.0000e+00 - val_accuracy: 0.3333 - 40ms/epoch - 6ms/step\n",
      "Epoch 97/100\n",
      "7/7 - 0s - loss: 0.0000e+00 - accuracy: 0.3301 - val_loss: 0.0000e+00 - val_accuracy: 0.3333 - 40ms/epoch - 6ms/step\n",
      "Epoch 98/100\n",
      "7/7 - 0s - loss: 0.0000e+00 - accuracy: 0.3301 - val_loss: 0.0000e+00 - val_accuracy: 0.3333 - 36ms/epoch - 5ms/step\n",
      "Epoch 99/100\n",
      "7/7 - 0s - loss: 0.0000e+00 - accuracy: 0.3301 - val_loss: 0.0000e+00 - val_accuracy: 0.3333 - 35ms/epoch - 5ms/step\n",
      "Epoch 100/100\n",
      "7/7 - 0s - loss: 0.0000e+00 - accuracy: 0.3301 - val_loss: 0.0000e+00 - val_accuracy: 0.3333 - 40ms/epoch - 6ms/step\n"
     ]
    }
   ],
   "source": [
    "history_small_model=model.fit(X_train, y_train, epochs=100, batch_size=16, validation_split=0.1, verbose=2)"
   ]
  },
  {
   "cell_type": "code",
   "execution_count": 11,
   "metadata": {},
   "outputs": [
    {
     "data": {
      "image/png": "[encoded data removed]",
      "text/plain": [
       "<Figure size 640x480 with 1 Axes>"
      ]
     },
     "metadata": {},
     "output_type": "display_data"
    }
   ],
   "source": [
    "loss = history_small_model.history[\"loss\"]\n",
    "epochs = range(1, 101)\n",
    "acc = history_small_model.history[\"accuracy\"]\n",
    "\n",
    "plt.plot(epochs, loss, \"r.\",label=\"Loss\")\n",
    "plt.plot(epochs,acc, \"b\",label=\"Accuracy\")\n",
    "plt.plot(epochs, history_small_model.history[\"val_loss\"], \"r--\",label=\"Validation Loss\")\n",
    "plt.plot(epochs, history_small_model.history[\"val_accuracy\"], \"b.\",label=\"Validation Accuracy\")\n",
    "plt.title(\"Effect of insufficient model capacity on Loss\")\n",
    "plt.xlabel(\"Epochs\")\n",
    "plt.ylabel(\"Loss\")\n",
    "plt.legend()\n",
    "plt.show()"
   ]
  }
 ],
 "metadata": {
  "kernelspec": {
   "display_name": "Python 3",
   "language": "python",
   "name": "python3"
  },
  "language_info": {
   "codemirror_mode": {
    "name": "ipython",
    "version": 3
   },
   "file_extension": ".py",
   "mimetype": "text/x-python",
   "name": "python",
   "nbconvert_exporter": "python",
   "pygments_lexer": "ipython3",
   "version": "3.11.3"
  },
  "orig_nbformat": 4
 },
 "nbformat": 4,
 "nbformat_minor": 2
}
